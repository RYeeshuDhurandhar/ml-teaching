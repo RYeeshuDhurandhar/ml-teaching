{
 "cells": [
  {
   "cell_type": "raw",
   "metadata": {},
   "source": [
    "---\n",
    "author: Nipun Batra\n",
    "badges: true\n",
    "categories:\n",
    "- ML\n",
    "date: '2024-1-21'\n",
    "title: Automatic Gradient Computation\n",
    "toc: true\n",
    "\n",
    "---\n"
   ]
  },
  {
   "cell_type": "markdown",
   "metadata": {},
   "source": [
    "Adapted from https://matplotlib.org/stable/gallery/specialty_plots/anscombe.html"
   ]
  },
  {
   "cell_type": "code",
   "execution_count": 2,
   "metadata": {},
   "outputs": [],
   "source": [
    "import matplotlib.pyplot as plt\n",
    "import numpy as np\n",
    "# Retina mode\n",
    "%config InlineBackend.figure_format = 'retina'"
   ]
  },
  {
   "cell_type": "code",
   "execution_count": 7,
   "metadata": {},
   "outputs": [],
   "source": [
    "from latexify import latexify, format_axes"
   ]
  },
  {
   "cell_type": "code",
   "execution_count": 10,
   "metadata": {},
   "outputs": [],
   "source": [
    "latexify(columns=2)"
   ]
  },
  {
   "cell_type": "code",
   "execution_count": 6,
   "metadata": {},
   "outputs": [
    {
     "name": "stdout",
     "output_type": "stream",
     "text": [
      "Collecting pydot\n",
      "  Using cached pydot-1.4.2-py2.py3-none-any.whl (21 kB)\n",
      "Requirement already satisfied: pyparsing>=2.1.4 in /Users/nipun/miniconda3/lib/python3.9/site-packages (from pydot) (3.0.9)\n",
      "Installing collected packages: pydot\n",
      "Successfully installed pydot-1.4.2\n",
      "Note: you may need to restart the kernel to use updated packages.\n"
     ]
    }
   ],
   "source": [
    "%pip install pydot"
   ]
  },
  {
   "cell_type": "code",
   "execution_count": 11,
   "metadata": {},
   "outputs": [
    {
     "data": {
      "image/png": "[encoded data removed]",
      "text/plain": [
       "<Figure size 640x480 with 1 Axes>"
      ]
     },
     "metadata": {},
     "output_type": "display_data"
    }
   ],
   "source": [
    "import networkx as nx\n",
    "import matplotlib.pyplot as plt\n",
    "\n",
    "# Create a directed graph\n",
    "G = nx.DiGraph()\n",
    "\n",
    "# Add nodes with labels and operation types\n",
    "node_labels = {\n",
    "    'x1': r'$x_1$', 'theta1': r'$\\theta_1$', 'a': r'$a$', \n",
    "    'x2': r'$x_2$', 'theta2': r'$\\theta_2$', 'b': r'$b$', \n",
    "    'theta0': r'$\\theta_0$', \n",
    "    'mul_x1_theta1': r'$\\ast$', 'mul_x2_theta2': r'$\\ast$', \n",
    "    'add_a_b_theta0': r'$+$', 'exp': r'$e^{-}$', 'add_one_exp': r'$+$', 'logistic': r'$\\frac{1}{1+e^{-}}$'\n",
    "}\n",
    "\n",
    "# Add nodes with colors for different operations\n",
    "G.add_nodes_from([\n",
    "    ('x1', {'color': '#61c0bf'}), ('theta1', {'color': '#61c0bf'}), ('a', {'color': '#61c0bf'}),\n",
    "    ('mul_x1_theta1', {'color': '#6fc37e'}),\n",
    "    ('x2', {'color': '#f48c06'}), ('theta2', {'color': '#f48c06'}), ('b', {'color': '#f48c06'}),\n",
    "    ('mul_x2_theta2', {'color': '#6fc37e'}),\n",
    "    ('theta0', {'color': '#5e5e5e'}),\n",
    "    ('add_a_b_theta0', {'color': '#ff4d4d'}),\n",
    "    ('linear_combination', {'color': '#a35ebf'}),\n",
    "    ('exp', {'color': '#ff4d4d'}),\n",
    "    ('add_one_exp', {'color': '#ff4d4d'}),\n",
    "    ('denominator', {'color': '#a35ebf'}),\n",
    "    ('logistic', {'color': '#5e5e5e'})\n",
    "])\n",
    "\n",
    "# Add edges\n",
    "G.add_edges_from([\n",
    "    ('x1', 'mul_x1_theta1'), ('theta1', 'mul_x1_theta1'), ('mul_x1_theta1', 'a'),\n",
    "    ('x2', 'mul_x2_theta2'), ('theta2', 'mul_x2_theta2'), ('mul_x2_theta2', 'b'),\n",
    "    ('a', 'add_a_b_theta0'), ('b', 'add_a_b_theta0'), ('theta0', 'add_a_b_theta0'),\n",
    "    ('add_a_b_theta0', 'linear_combination'),\n",
    "    ('linear_combination', 'exp'),\n",
    "    ('exp', 'add_one_exp'),\n",
    "    ('add_one_exp', 'denominator'),\n",
    "    ('denominator', 'logistic')\n",
    "])\n",
    "\n",
    "# Draw the graph with a horizontal layout\n",
    "pos = {'x1': (0, 3), 'theta1': (1, 3), 'a': (2, 3),\n",
    "       'mul_x1_theta1': (1.5, 2.5),\n",
    "       'x2': (0, 1), 'theta2': (1, 1), 'b': (2, 1),\n",
    "       'mul_x2_theta2': (1.5, 1.5),\n",
    "       'theta0': (3, 2),\n",
    "       'add_a_b_theta0': (2.5, 2),\n",
    "       'linear_combination': (4, 2),\n",
    "       'exp': (5, 2),\n",
    "       'add_one_exp': (6, 2),\n",
    "       'denominator': (7, 2),\n",
    "       'logistic': (8, 2)}\n",
    "\n",
    "nx.draw(G, pos, with_labels=True, labels=node_labels, node_size=200, \n",
    "        font_size=8, font_color=\"black\", font_weight=\"bold\", arrowsize=15, node_color=[G.nodes[n]['color'] for n in G.nodes])\n",
    "\n",
    "plt.show()\n"
   ]
  },
  {
   "cell_type": "code",
   "execution_count": 12,
   "metadata": {},
   "outputs": [],
   "source": [
    "import networkx as nx\n",
    "import matplotlib.pyplot as plt\n",
    "\n",
    "def draw_and_save(graph, filename):\n",
    "    pos = nx.drawing.nx_pydot.graphviz_layout(graph, prog='dot')\n",
    "    nx.draw(graph, pos, with_labels=True, node_size=200, node_color=\"skyblue\",\n",
    "            font_size=10, font_color=\"black\", font_weight=\"bold\", arrowsize=15)\n",
    "    plt.savefig(filename)\n",
    "    plt.close()\n",
    "\n",
    "# Stage 1: Input Variables\n",
    "G_stage1 = nx.DiGraph()\n",
    "G_stage1.add_nodes_from(['x1', 'theta1', 'x2', 'theta2'])\n",
    "draw_and_save(G_stage1, 's1.pdf')\n",
    "\n",
    "# Stage 2: Intermediate Variables a and b\n",
    "G_stage2 = nx.DiGraph()\n",
    "G_stage2.add_nodes_from(['x1', 'theta1', 'a', 'x2', 'theta2', 'b'])\n",
    "G_stage2.add_edges_from([('x1', 'a'), ('theta1', 'a'), ('x2', 'b'), ('theta2', 'b')])\n",
    "draw_and_save(G_stage2, 's2.pdf')\n",
    "\n",
    "# Stage 3: Linear Combination\n",
    "G_stage3 = nx.DiGraph()\n",
    "G_stage3.add_nodes_from(['x1', 'theta1', 'a', 'x2', 'theta2', 'b', 'theta0', 'linear_combination'])\n",
    "G_stage3.add_edges_from([('a', 'linear_combination'), ('b', 'linear_combination'), ('theta0', 'linear_combination')])\n",
    "draw_and_save(G_stage3, 's3.pdf')\n",
    "\n",
    "# Stage 4: Exponential Term\n",
    "G_stage4 = nx.DiGraph()\n",
    "G_stage4.add_nodes_from(['x1', 'theta1', 'a', 'x2', 'theta2', 'b', 'theta0', 'linear_combination', 'exp'])\n",
    "G_stage4.add_edges_from([('linear_combination', 'exp')])\n",
    "draw_and_save(G_stage4, 's4.pdf')\n",
    "\n",
    "# Stage 5: Denominator\n",
    "G_stage5 = nx.DiGraph()\n",
    "G_stage5.add_nodes_from(['x1', 'theta1', 'a', 'x2', 'theta2', 'b', 'theta0', 'linear_combination', 'exp', 'denominator'])\n",
    "G_stage5.add_edges_from([('exp', 'denominator'), ('1', 'denominator')])\n",
    "draw_and_save(G_stage5, 's5.pdf')\n",
    "\n",
    "# Stage 6: Logistic Function\n",
    "G_stage6 = nx.DiGraph()\n",
    "G_stage6.add_nodes_from(['x1', 'theta1', 'a', 'x2', 'theta2', 'b', 'theta0', 'linear_combination', 'exp', 'denominator', 'logistic'])\n",
    "G_stage6.add_edge('1', 'logistic')\n",
    "draw_and_save(G_stage6, 's6.pdf')\n"
   ]
  },
  {
   "cell_type": "code",
   "execution_count": null,
   "metadata": {},
   "outputs": [],
   "source": []
  }
 ],
 "metadata": {
  "kernelspec": {
   "display_name": "base",
   "language": "python",
   "name": "python3"
  },
  "language_info": {
   "codemirror_mode": {
    "name": "ipython",
    "version": 3
   },
   "file_extension": ".py",
   "mimetype": "text/x-python",
   "name": "python",
   "nbconvert_exporter": "python",
   "pygments_lexer": "ipython3",
   "version": "3.9.15"
  }
 },
 "nbformat": 4,
 "nbformat_minor": 2
}
